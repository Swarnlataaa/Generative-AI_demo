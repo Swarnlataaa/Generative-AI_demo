{
  "nbformat": 4,
  "nbformat_minor": 0,
  "metadata": {
    "colab": {
      "provenance": [],
      "authorship_tag": "ABX9TyPxmUShVrTDYjl8UohRpqth",
      "include_colab_link": true
    },
    "kernelspec": {
      "name": "python3",
      "display_name": "Python 3"
    },
    "language_info": {
      "name": "python"
    }
  },
  "cells": [
    {
      "cell_type": "markdown",
      "metadata": {
        "id": "view-in-github",
        "colab_type": "text"
      },
      "source": [
        "<a href=\"https://colab.research.google.com/github/Swarnlataaa/Generative-AI_demo/blob/main/Ticket.ipynb\" target=\"_parent\"><img src=\"https://colab.research.google.com/assets/colab-badge.svg\" alt=\"Open In Colab\"/></a>"
      ]
    },
    {
      "cell_type": "code",
      "source": [
        "import tensorflow as tf\n",
        "from tensorflow.keras.preprocessing.text import Tokenizer\n",
        "from tensorflow.keras.preprocessing.sequence import pad_sequences\n",
        "\n",
        "# Define your text data\n",
        "texts = [\n",
        "    \"This is the first text.\",\n",
        "    \"Here is the second text.\",\n",
        "    \"And this is the third text.\"\n",
        "]\n",
        "\n",
        "labels = [0, 1, 0]  # Modify this according to your actual labels\n",
        "num_classes = 2  # Define the number of classes in your classification task\n",
        "\n",
        "# Define parameters\n",
        "max_sequence_length = 100  # Define your sequence length\n",
        "num_words = 10000  # Define the maximum number of words in your vocabulary\n",
        "\n",
        "# Tokenize and pad the sequences\n",
        "tokenizer = Tokenizer(num_words=num_words, oov_token=\"<OOV>\")\n",
        "tokenizer.fit_on_texts(texts)\n",
        "word_index = tokenizer.word_index\n",
        "\n",
        "sequences = tokenizer.texts_to_sequences(texts)\n",
        "padded_sequences = pad_sequences(sequences, maxlen=max_sequence_length, padding='post', truncating='post')\n",
        "\n",
        "# Convert labels to one-hot encoding\n",
        "labels = tf.keras.utils.to_categorical(labels, num_classes)\n",
        "\n",
        "# Create and compile the model\n",
        "model = tf.keras.Sequential([\n",
        "    tf.keras.layers.Embedding(num_words, 16, input_length=max_sequence_length),\n",
        "    tf.keras.layers.Flatten(),\n",
        "    tf.keras.layers.Dense(16, activation='relu'),\n",
        "    tf.keras.layers.Dense(num_classes, activation='softmax')\n",
        "])\n",
        "\n",
        "model.compile(optimizer='adam', loss='categorical_crossentropy', metrics=['accuracy'])\n",
        "\n",
        "# Model training\n",
        "model.fit(padded_sequences, labels, epochs=5, validation_split=0.2)\n",
        "\n",
        "# Inference with new data\n",
        "new_tickets = [\"New support ticket text 1\", \"New support ticket text 2\"]\n",
        "new_sequences = tokenizer.texts_to_sequences(new_tickets)\n",
        "new_padded_sequences = pad_sequences(new_sequences, maxlen=max_sequence_length, padding='post', truncating='post')\n",
        "predictions = model.predict(new_padded_sequences)\n",
        "print(\"Predictions for new tickets:\")\n",
        "print(predictions)\n"
      ],
      "metadata": {
        "colab": {
          "base_uri": "https://localhost:8080/"
        },
        "id": "DsbKDR2Fy0mx",
        "outputId": "66b12077-4bad-49e8-e13b-c799d791a84f"
      },
      "execution_count": null,
      "outputs": [
        {
          "output_type": "stream",
          "name": "stdout",
          "text": [
            "Epoch 1/5\n",
            "1/1 [==============================] - 3s 3s/step - loss: 0.6946 - accuracy: 0.5000 - val_loss: 0.6887 - val_accuracy: 1.0000\n",
            "Epoch 2/5\n",
            "1/1 [==============================] - 0s 204ms/step - loss: 0.6934 - accuracy: 0.5000 - val_loss: 0.6875 - val_accuracy: 1.0000\n",
            "Epoch 3/5\n",
            "1/1 [==============================] - 0s 76ms/step - loss: 0.6933 - accuracy: 0.5000 - val_loss: 0.6871 - val_accuracy: 1.0000\n",
            "Epoch 4/5\n",
            "1/1 [==============================] - 0s 150ms/step - loss: 0.6932 - accuracy: 0.5000 - val_loss: 0.6874 - val_accuracy: 1.0000\n",
            "Epoch 5/5\n",
            "1/1 [==============================] - 0s 145ms/step - loss: 0.6931 - accuracy: 0.5000 - val_loss: 0.6881 - val_accuracy: 1.0000\n",
            "1/1 [==============================] - 0s 154ms/step\n",
            "Predictions for new tickets:\n",
            "[[0.5025453  0.49745473]\n",
            " [0.5025453  0.49745473]]\n"
          ]
        }
      ]
    }
  ]
}