{
  "nbformat": 4,
  "nbformat_minor": 0,
  "metadata": {
    "colab": {
      "provenance": [],
      "authorship_tag": "ABX9TyMMKpPxE2oXA7+QKsuWvMaq",
      "include_colab_link": true
    },
    "kernelspec": {
      "name": "python3",
      "display_name": "Python 3"
    },
    "language_info": {
      "name": "python"
    }
  },
  "cells": [
    {
      "cell_type": "markdown",
      "metadata": {
        "id": "view-in-github",
        "colab_type": "text"
      },
      "source": [
        "<a href=\"https://colab.research.google.com/github/Swarnlataaa/Generative-AI_demo/blob/main/Visual_search.ipynb\" target=\"_parent\"><img src=\"https://colab.research.google.com/assets/colab-badge.svg\" alt=\"Open In Colab\"/></a>"
      ]
    },
    {
      "cell_type": "code",
      "execution_count": null,
      "metadata": {
        "id": "bVEXHrAoQyOB"
      },
      "outputs": [],
      "source": [
        "pip install streamlit numpy pillow tensorflow\n"
      ]
    },
    {
      "cell_type": "code",
      "source": [
        "# app.py\n",
        "import streamlit as st\n",
        "import numpy as np\n",
        "from PIL import Image\n",
        "import tensorflow as tf\n",
        "\n",
        "st.title(\"Visual Search for Products\")\n",
        "\n",
        "uploaded_image = st.file_uploader(\"Upload an image\", type=[\"jpg\", \"jpeg\", \"png\"])\n",
        "\n",
        "if uploaded_image is not None:\n",
        "    image = Image.open(uploaded_image)\n",
        "    st.image(image, caption=\"Uploaded Image\", use_column_width=True)\n",
        "\n",
        "    # Preprocess the uploaded image\n",
        "    image = np.array(image)\n",
        "    image = tf.image.resize(image, (224, 224))  # Resize to the model's input size\n",
        "    image = tf.keras.applications.mobilenet_v2.preprocess_input(image)\n",
        "\n",
        "    # Load a pre-trained model (you can use any pre-trained model)\n",
        "    model = tf.keras.applications.MobileNetV2(weights=\"imagenet\")\n",
        "\n",
        "    # Use the model to make predictions\n",
        "    predictions = model.predict(np.expand_dims(image, axis=0))\n",
        "    decoded_predictions = tf.keras.applications.mobilenet_v2.decode_predictions(predictions.numpy())\n",
        "\n",
        "    st.write(\"Predicted Product:\")\n",
        "    st.write(decoded_predictions[0][0][1])  # Display the top predicted product's label\n"
      ],
      "metadata": {
        "id": "lXdZjjp-Q6mq"
      },
      "execution_count": null,
      "outputs": []
    },
    {
      "cell_type": "code",
      "source": [
        "# streamlit run app.py\n"
      ],
      "metadata": {
        "id": "4Pn_JTEsQ8tF"
      },
      "execution_count": null,
      "outputs": []
    }
  ]
}