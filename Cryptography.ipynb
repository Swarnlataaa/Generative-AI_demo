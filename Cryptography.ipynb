{
  "nbformat": 4,
  "nbformat_minor": 0,
  "metadata": {
    "colab": {
      "provenance": [],
      "authorship_tag": "ABX9TyOEj1+YdMwzv7OrToWW/5ic",
      "include_colab_link": true
    },
    "kernelspec": {
      "name": "python3",
      "display_name": "Python 3"
    },
    "language_info": {
      "name": "python"
    }
  },
  "cells": [
    {
      "cell_type": "markdown",
      "metadata": {
        "id": "view-in-github",
        "colab_type": "text"
      },
      "source": [
        "<a href=\"https://colab.research.google.com/github/Swarnlataaa/Generative-AI_demo/blob/main/Cryptography.ipynb\" target=\"_parent\"><img src=\"https://colab.research.google.com/assets/colab-badge.svg\" alt=\"Open In Colab\"/></a>"
      ]
    },
    {
      "cell_type": "code",
      "execution_count": null,
      "metadata": {
        "id": "jGRJiEdGmlRM"
      },
      "outputs": [],
      "source": [
        "from cryptography.fernet import Fernet\n",
        "\n",
        "# Generate a random symmetric key\n",
        "key = Fernet.generate_key()\n",
        "cipher_suite = Fernet(key)\n",
        "\n",
        "# Encrypt\n",
        "plaintext = b\"Hello, World!\"\n",
        "ciphertext = cipher_suite.encrypt(plaintext)\n",
        "print(\"Encrypted:\", ciphertext)\n",
        "\n",
        "# Decrypt\n",
        "decrypted_text = cipher_suite.decrypt(ciphertext)\n",
        "print(\"Decrypted:\", decrypted_text)\n"
      ]
    },
    {
      "cell_type": "code",
      "source": [
        "from cryptography.hazmat.primitives.asymmetric import rsa\n",
        "from cryptography.hazmat.primitives import serialization\n",
        "\n",
        "# Generate private and public keys\n",
        "private_key = rsa.generate_private_key(\n",
        "    public_exponent=65537,\n",
        "    key_size=2048\n",
        ")\n",
        "\n",
        "public_key = private_key.public_key()\n",
        "\n",
        "# Serialize and save keys to files\n",
        "private_pem = private_key.private_bytes(\n",
        "    encoding=serialization.Encoding.PEM,\n",
        "    format=serialization.PrivateFormat.PKCS8,\n",
        "    encryption_algorithm=serialization.NoEncryption()\n",
        ")\n",
        "\n",
        "public_pem = public_key.public_bytes(\n",
        "    encoding=serialization.Encoding.PEM,\n",
        "    format=serialization.PublicFormat.SubjectPublicKeyInfo\n",
        ")\n",
        "\n",
        "# Encryption\n",
        "plaintext = b\"Hello, World!\"\n",
        "ciphertext = public_key.encrypt(plaintext, None)\n",
        "print(\"Encrypted:\", ciphertext)\n",
        "\n",
        "# Decryption\n",
        "decrypted_text = private_key.decrypt(ciphertext, None)\n",
        "print(\"Decrypted:\", decrypted_text)\n"
      ],
      "metadata": {
        "id": "agBcOWqCmqiz"
      },
      "execution_count": null,
      "outputs": []
    },
    {
      "cell_type": "code",
      "source": [
        "from cryptography.fernet import Fernet\n",
        "\n",
        "# Generate a random symmetric key\n",
        "key = Fernet.generate_key()\n",
        "cipher_suite = Fernet(key)\n",
        "\n",
        "# Encrypt\n",
        "plaintext = b\"Hello, World!\"\n",
        "ciphertext = cipher_suite.encrypt(plaintext)\n",
        "print(\"Encrypted:\", ciphertext)\n",
        "\n",
        "# Decrypt\n",
        "decrypted_text = cipher_suite.decrypt(ciphertext)\n",
        "print(\"Decrypted:\", decrypted_text)\n"
      ],
      "metadata": {
        "id": "2XQYJ46hmt6R"
      },
      "execution_count": null,
      "outputs": []
    },
    {
      "cell_type": "code",
      "source": [
        "from cryptography.hazmat.primitives.asymmetric import rsa\n",
        "from cryptography.hazmat.primitives import serialization\n",
        "\n",
        "# Generate private and public keys\n",
        "private_key = rsa.generate_private_key(\n",
        "    public_exponent=65537,\n",
        "    key_size=2048\n",
        ")\n",
        "\n",
        "public_key = private_key.public_key()\n",
        "\n",
        "# Serialize and save keys to files (best practice)\n",
        "private_pem = private_key.private_bytes(\n",
        "    encoding=serialization.Encoding.PEM,\n",
        "    format=serialization.PrivateFormat.PKCS8,\n",
        "    encryption_algorithm=serialization.NoEncryption()\n",
        ")\n",
        "\n",
        "public_pem = public_key.public_bytes(\n",
        "    encoding=serialization.Encoding.PEM,\n",
        "    format=serialization.PublicFormat.SubjectPublicKeyInfo\n",
        ")\n",
        "\n",
        "# Encryption\n",
        "plaintext = b\"Hello, World!\"\n",
        "ciphertext = public_key.encrypt(plaintext, None)\n",
        "print(\"Encrypted:\", ciphertext)\n",
        "\n",
        "# Decryption\n",
        "decrypted_text = private_key.decrypt(ciphertext, None)\n",
        "print(\"Decrypted:\", decrypted_text)\n"
      ],
      "metadata": {
        "id": "0vlIGwDNm1nA"
      },
      "execution_count": null,
      "outputs": []
    },
    {
      "cell_type": "code",
      "source": [
        "import hashlib\n",
        "\n",
        "data = b\"Hello, World!\"\n",
        "hash_object = hashlib.sha256(data)\n",
        "hash_hex = hash_object.hexdigest()\n",
        "print(\"Hash:\", hash_hex)\n"
      ],
      "metadata": {
        "id": "KjUQBzeonJXC"
      },
      "execution_count": null,
      "outputs": []
    },
    {
      "cell_type": "code",
      "source": [
        "def caesar_encrypt(text, shift):\n",
        "    result = []\n",
        "    for char in text:\n",
        "        if char.isalpha():\n",
        "            shift_amount = shift % 26\n",
        "            if char.islower():\n",
        "                encrypted_char = chr(((ord(char) - ord('a') + shift_amount) % 26) + ord('a'))\n",
        "            else:\n",
        "                encrypted_char = chr(((ord(char) - ord('A') + shift_amount) % 26) + ord('A'))\n",
        "            result.append(encrypted_char)\n",
        "        else:\n",
        "            result.append(char)\n",
        "    return ''.join(result)\n",
        "\n",
        "def caesar_decrypt(ciphertext, shift):\n",
        "    return caesar_encrypt(ciphertext, -shift)\n",
        "\n",
        "text = \"Hello, World!\"\n",
        "shift = 3\n",
        "\n",
        "encrypted_text = caesar_encrypt(text, shift)\n",
        "print(\"Encrypted:\", encrypted_text)\n",
        "\n",
        "decrypted_text = caesar_decrypt(encrypted_text, shift)\n",
        "print(\"Decrypted:\", decrypted_text)\n"
      ],
      "metadata": {
        "id": "0TN4GSLBnNG1"
      },
      "execution_count": null,
      "outputs": []
    },
    {
      "cell_type": "code",
      "source": [
        "def affine_encrypt(text, a, b):\n",
        "    result = []\n",
        "    for char in text:\n",
        "        if char.isalpha():\n",
        "            if char.islower():\n",
        "                encrypted_char = chr(((a * (ord(char) - ord('a')) + b) % 26) + ord('a'))\n",
        "            else:\n",
        "                encrypted_char = chr(((a * (ord(char) - ord('A')) + b) % 26) + ord('A'))\n",
        "            result.append(encrypted_char)\n",
        "        else:\n",
        "            result.append(char)\n",
        "    return ''.join(result)\n",
        "\n",
        "def affine_decrypt(ciphertext, a, b):\n",
        "    mod_inverse = 0\n",
        "    for i in range(26):\n",
        "        if (a * i) % 26 == 1:\n",
        "            mod_inverse = i\n",
        "            break\n",
        "\n",
        "    return affine_encrypt(ciphertext, mod_inverse, -b)\n",
        "\n",
        "text = \"Hello, World!\"\n",
        "a = 3\n",
        "b = 5\n",
        "\n",
        "encrypted_text = affine_encrypt(text, a, b)\n",
        "print(\"Encrypted:\", encrypted_text)\n",
        "\n",
        "decrypted_text = affine_decrypt(encrypted_text, a, b)\n",
        "print(\"Decrypted:\", decrypted_text)\n"
      ],
      "metadata": {
        "id": "WC_sSeGJnNaY"
      },
      "execution_count": null,
      "outputs": []
    },
    {
      "cell_type": "code",
      "source": [
        "pip install transformers torch\n"
      ],
      "metadata": {
        "id": "HwgHYgQFnNth"
      },
      "execution_count": null,
      "outputs": []
    },
    {
      "cell_type": "code",
      "source": [
        "import torch\n",
        "from transformers import BertTokenizer, BertForSequenceClassification\n",
        "\n",
        "# Load the pre-trained BERT model and tokenizer\n",
        "model_name = 'bert-base-uncased'\n",
        "tokenizer = BertTokenizer.from_pretrained(model_name)\n",
        "model = BertForSequenceClassification.from_pretrained(model_name)\n",
        "\n",
        "# Sample text for sentiment analysis\n",
        "text = \"I love this product! It's amazing.\"\n",
        "\n",
        "# Tokenize the text and perform sentiment analysis\n",
        "inputs = tokenizer(text, return_tensors=\"pt\", padding=True, truncation=True)\n",
        "outputs = model(**inputs)\n",
        "\n",
        "# Extract the predicted sentiment\n",
        "logits = outputs.logits\n",
        "predicted_class = torch.argmax(logits, dim=1).item()\n",
        "\n",
        "# Define sentiment classes\n",
        "sentiment_classes = ['Negative', 'Positive']\n",
        "\n",
        "# Print the result\n",
        "print(f\"Text: '{text}'\")\n",
        "print(f\"Predicted Sentiment: {sentiment_classes[predicted_class]}\")\n"
      ],
      "metadata": {
        "id": "Y5Zb08gEnLwh"
      },
      "execution_count": null,
      "outputs": []
    }
  ]
}