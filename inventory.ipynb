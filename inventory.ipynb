{
  "nbformat": 4,
  "nbformat_minor": 0,
  "metadata": {
    "colab": {
      "provenance": [],
      "authorship_tag": "ABX9TyMJ5Z0rH8wxgmiM9/wNCRJ/",
      "include_colab_link": true
    },
    "kernelspec": {
      "name": "python3",
      "display_name": "Python 3"
    },
    "language_info": {
      "name": "python"
    }
  },
  "cells": [
    {
      "cell_type": "markdown",
      "metadata": {
        "id": "view-in-github",
        "colab_type": "text"
      },
      "source": [
        "<a href=\"https://colab.research.google.com/github/Swarnlataaa/Generative-AI_demo/blob/main/inventory.ipynb\" target=\"_parent\"><img src=\"https://colab.research.google.com/assets/colab-badge.svg\" alt=\"Open In Colab\"/></a>"
      ]
    },
    {
      "cell_type": "code",
      "execution_count": null,
      "metadata": {
        "id": "hcrqOVVHmLyB"
      },
      "outputs": [],
      "source": [
        "pip install streamlit pandas numpy pystan==2.19.1.1 fbprophet\n"
      ]
    },
    {
      "cell_type": "code",
      "source": [
        "# app.py\n",
        "import streamlit as st\n",
        "import pandas as pd\n",
        "import numpy as np\n",
        "from fbprophet import Prophet\n",
        "\n",
        "st.title(\"Inventory Management System with AI Demand Prediction\")\n",
        "\n",
        "# Sample dataset: Date and Sales\n",
        "data = {\n",
        "    'Date': pd.date_range(start='2023-01-01', end='2023-12-31', freq='D'),\n",
        "    'Sales': np.random.randint(1, 100, 365)\n",
        "}\n",
        "\n",
        "df = pd.DataFrame(data)\n",
        "\n",
        "st.write(\"Sales Data:\")\n",
        "st.write(df)\n",
        "\n",
        "# Demand Prediction\n",
        "st.write(\"Demand Prediction:\")\n",
        "future_days = st.slider(\"Select the number of days to predict:\", 1, 365, 30)\n",
        "\n",
        "# Prepare data for Prophet\n",
        "df.columns = ['ds', 'y']\n",
        "model = Prophet()\n",
        "model.fit(df)\n",
        "future = model.make_future_dataframe(periods=future_days)\n",
        "forecast = model.predict(future)\n",
        "\n",
        "st.write(forecast[['ds', 'yhat', 'yhat_lower', 'yhat_upper']])\n",
        "\n",
        "# Stock Optimization\n",
        "st.write(\"Stock Optimization:\")\n",
        "\n",
        "# You can implement stock optimization logic here\n",
        "# For this simplified example, we'll assume a static reorder point\n",
        "\n",
        "reorder_point = st.number_input(\"Set Reorder Point:\", 1, 1000, 100)\n",
        "current_stock = st.number_input(\"Current Stock Level:\", 1, 1000, 150)\n",
        "\n",
        "if current_stock < reorder_point:\n",
        "    st.write(\"Reorder stock to meet demand.\")\n",
        "else:\n",
        "    st.write(\"Stock level is sufficient.\")\n",
        "\n"
      ],
      "metadata": {
        "id": "sY11I-wHmbd2"
      },
      "execution_count": null,
      "outputs": []
    }
  ]
}